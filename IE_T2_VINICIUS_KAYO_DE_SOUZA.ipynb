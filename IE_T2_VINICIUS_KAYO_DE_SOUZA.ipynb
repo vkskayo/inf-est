{
 "cells": [
  {
   "cell_type": "markdown",
   "metadata": {},
   "source": [
    "# 1 Máquina desregulada?\n",
    "Considere que uma m´aquina de preenchimento de garrafas est´a configurada para\n",
    "preencher cada garrafa com 500 ml de vinho. O fabricante suspeita de que essa\n",
    "m´aquina est´a preenchendo as garrafas com valores a menor. Ele ent˜ao coleta uma\n",
    "amostra de 20 garrafas preenchidas a partir da linha de produ¸c˜ao e mede cuidadosamente o volume em cada uma delas. Os resultados obtidos nessas medi¸c˜oes\n",
    "est˜ao a seguir (valores em miligramas):\n",
    "\n",
    "484.11, 459.49, 471.38, 512.01, 494.48, 528.63, 493.64, 485.03, 473.88, 501.59,\n",
    "502.85, 538.08, 465.68, 495.03, 475.32, 529.41, 518.13, 464.32, 449.08, 489.27\n",
    "\n",
    "Nessa parte do trabalho vocˆe deve verificar a alega¸c˜ao de que a m´aquina est´a\n",
    "desregulada, conforme a suspeita do fabricante."
   ]
  },
  {
   "cell_type": "markdown",
   "metadata": {},
   "source": [
    "(i) Os procedimentos param´etricos de testes de hip´oteses sobre uma amostra\n",
    "que estudamos em nosso curso presumem que a amostra a ser usada ´e\n",
    "proveniente de uma distribui¸c˜ao aproximadamente normal. Para a amostra\n",
    "fornecida verifique essa hip´otese usando dois dos testes de normalidade que\n",
    "estudamos no curso, o teste de Shapiro-Wilk e o teste usando QQ-plot.\n",
    "Nessa verifica¸c˜ao defina o n´ıvel de significˆancia como α = 0.05.\n"
   ]
  },
  {
   "cell_type": "code",
   "execution_count": null,
   "metadata": {
    "vscode": {
     "languageId": "plaintext"
    }
   },
   "outputs": [],
   "source": []
  },
  {
   "cell_type": "markdown",
   "metadata": {},
   "source": []
  },
  {
   "cell_type": "markdown",
   "metadata": {},
   "source": [
    "(ii) Formule as hip´oteses nula e alternativa. Seja consistente com o enunciado\n",
    "fornecido."
   ]
  },
  {
   "cell_type": "code",
   "execution_count": null,
   "metadata": {
    "vscode": {
     "languageId": "plaintext"
    }
   },
   "outputs": [],
   "source": []
  },
  {
   "cell_type": "markdown",
   "metadata": {},
   "source": []
  },
  {
   "cell_type": "markdown",
   "metadata": {},
   "source": [
    "(iii) A variˆancia da popula¸c˜ao ´e desconhecida. Sendo assim, certifique-se de\n",
    "usar o procedimento de teste de hip´oteses adequado para essa situa¸c˜ao.\n",
    "Apresente sua an´alise para o n´ıvel de significˆancia igual a 1%.\n"
   ]
  },
  {
   "cell_type": "code",
   "execution_count": null,
   "metadata": {
    "vscode": {
     "languageId": "plaintext"
    }
   },
   "outputs": [],
   "source": []
  },
  {
   "cell_type": "markdown",
   "metadata": {},
   "source": []
  },
  {
   "cell_type": "markdown",
   "metadata": {},
   "source": [
    "# 2 Um estilo diferente ajuda?\n",
    "O conjunto fornecido no arquivo golfe.csv lista as pontua¸c˜oes de uma rodada para\n",
    "75 membros selecionados aleatoriamente em um campo de golfe, primeiro usando\n",
    "seus pr´oprios tacos originais e, dois meses depois, depois de usar novos tacos com\n",
    "um design experimental. Denote a popula¸c˜ao de todos os jogadores de golfe que\n",
    "usam seus pr´oprios tacos originais como Popula¸c˜ao 1, e a popula¸c˜ao de todos os\n",
    "jogadores de golfe que usam os tacos do novo estilo como Popula¸c˜ao 2. Agora\n",
    "responda aos itens abaixo."
   ]
  },
  {
   "cell_type": "markdown",
   "metadata": {},
   "source": [
    "(i) Os procedimentos param´etricos de testes de hip´oteses sobre duas amostras\n",
    "que estudamos em nosso curso presumem que as amostras a serem usadas\n",
    "s˜ao provenientes de uma distribui¸c˜ao aproximadamente normal. Para cada\n",
    "uma das amostras fornecidas, verifique essa hip´otese usando dois dos testes de normalidades que estudamos no curso. Para isso, use um n´ıvel de\n",
    "significˆancia igual a 5%."
   ]
  },
  {
   "cell_type": "code",
   "execution_count": null,
   "metadata": {
    "vscode": {
     "languageId": "plaintext"
    }
   },
   "outputs": [],
   "source": []
  },
  {
   "cell_type": "markdown",
   "metadata": {},
   "source": []
  },
  {
   "cell_type": "markdown",
   "metadata": {},
   "source": [
    "(ii) Agora, aplique o teste de hip´oteses propriamente dito. Forne¸ca a descri¸c˜ao\n",
    "detalhada dos quatro passos de aplica¸c˜ao do teste. Repare que a variˆancia\n",
    "da popula¸c˜ao n˜ao ´e conhecida. Sendo assim, certifique-se de usar o teste\n",
    "de hip´oteses adequado para essa situa¸c˜ao. Apresente sua an´alise para o\n",
    "n´ıvel de significˆancia igual a 1%. Repare que vocˆe deve aplicar o teste de\n",
    "hip´oteses trˆes vezes, pois existem trˆes pares de amostras pareadas."
   ]
  },
  {
   "cell_type": "code",
   "execution_count": null,
   "metadata": {
    "vscode": {
     "languageId": "plaintext"
    }
   },
   "outputs": [],
   "source": []
  },
  {
   "cell_type": "markdown",
   "metadata": {},
   "source": []
  },
  {
   "cell_type": "markdown",
   "metadata": {},
   "source": [
    "# 3 Transmiss˜oes: autom´atica versus manual\n",
    "Considere o conjunto de dados mtcars (fornecido no arquivo mtcars.csv). Esse\n",
    "conjunto de dados apresenta informa¸c˜oes sobre modelos de carros. Esse conjunto\n",
    "de dados cont´em v´arias colunas. Entretanto para essa parte do trabalho, duas\n",
    "delas s˜ao relevantes:\n",
    "\n",
    "• A coluna denominada am indica o tipo de sistema de transmiss˜ao usado\n",
    "no modelo de autom´ovel (0 = automatic, 1 = manual). Sendo assim, esse\n",
    "conjunto pode ser dividido em duas amostras independentes: carros com\n",
    "transmiss˜ao autom´atica e carros com transmiss˜ao manual.\n",
    "\n",
    "• A coluna denominada mpg (miles per galon) fornece a quantidade de milhas por gal˜ao para diferentes modelos de carros. Desse modo, essa coluna\n",
    "fornece uma medida da eficiˆencia de consumo de combust´ıvel para cada\n",
    "modelo de carro listado no conjunto de dados.\n",
    "\n",
    "Com base nas informa¸c˜oes fornecidas acima, responda os itens abaixo.\n"
   ]
  },
  {
   "cell_type": "markdown",
   "metadata": {},
   "source": [
    "(i) Os procedimentos param´etricos de testes de hip´oteses sobre duas amostras\n",
    "que estudamos em nosso curso presumem que as amostras a serem usadas\n",
    "s˜ao provenientes de uma distribui¸c˜ao aproximadamente normal. Para cada\n",
    "uma das amostras fornecidas, verifique essa hip´otese usando dois dos testes de normalidades que estudamos no curso. Para isso, use um n´ıvel de\n",
    "significˆancia igual a 5%."
   ]
  },
  {
   "cell_type": "code",
   "execution_count": null,
   "metadata": {
    "vscode": {
     "languageId": "plaintext"
    }
   },
   "outputs": [],
   "source": []
  },
  {
   "cell_type": "markdown",
   "metadata": {},
   "source": []
  },
  {
   "cell_type": "markdown",
   "metadata": {},
   "source": [
    "(ii) Presumindo que os dados da coluna mpg seguem a distribui¸c˜ao normal,\n",
    "determine um intervalo de confian¸ca no n´ıvel 95% da diferen¸ca entre as\n",
    "m´edias dos modelos de carros que possuem transmiss˜ao autom´atica e os\n",
    "que possuem transmiss˜ao manual."
   ]
  },
  {
   "cell_type": "code",
   "execution_count": null,
   "metadata": {
    "vscode": {
     "languageId": "plaintext"
    }
   },
   "outputs": [],
   "source": []
  },
  {
   "cell_type": "markdown",
   "metadata": {},
   "source": []
  },
  {
   "cell_type": "markdown",
   "metadata": {},
   "source": [
    "(iii) Suponha que, ao analisar os dados fornecidos, algu´em levantou a alega¸c˜ao\n",
    "de que carros autom´aticos e manuais n˜ao apresentam a mesma eficiˆencia\n",
    "relativa a consumo de combust´ıvel. Em particular, existe a suspeita de que\n",
    "carros com transmiss˜ao manual consumem (em m´edia) menos combust´ıvel\n",
    "que suas contra-partidas com transmiss˜ao autom´atica. Aplique um teste\n",
    "de hip´oteses para verificar essa suspeita. Apresente a descri¸c˜ao de todos\n",
    "os quatro passos de aplica¸c˜ao do teste. Repare que s˜ao fornecidas duas\n",
    "amostras independentes. Sendo assim, para testar as hip´oteses previamente\n",
    "declaradas, certifique-se de usar o teste de hip´oteses adequado para essa\n",
    "situa¸c˜ao. Apresente sua an´alise para o n´ıvel de significˆancia igual a 5%."
   ]
  },
  {
   "cell_type": "code",
   "execution_count": null,
   "metadata": {
    "vscode": {
     "languageId": "plaintext"
    }
   },
   "outputs": [],
   "source": []
  },
  {
   "cell_type": "markdown",
   "metadata": {},
   "source": []
  },
  {
   "cell_type": "markdown",
   "metadata": {},
   "source": [
    "# 4 Teste ANOVA\n",
    "### 4.1 Situa¸c˜ao-problema I\n",
    "Nesta parte, vocˆe deve estudar as condi¸c˜oes que permitem usar o m´etodo de\n",
    "an´alise de variˆancia (ANOVA) para determinar se um grupo de popula¸c˜oes tem\n",
    "uma m´edia comum. Os dados apresentados nas figuras 1, 2 e 3 correspondem\n",
    "`as estimativas de milhas percorridas por gal˜ao obtidas para amostras de modelos\n",
    "de carros de 1993, conforme relatado pelo Consumer Reports: The 1993 Cars -\n",
    "Annual Auto Issue (abril de 1993)."
   ]
  },
  {
   "cell_type": "markdown",
   "metadata": {},
   "source": [
    "(i) Se uma ou mais das amostras n˜ao passam no teste de normalidade, ent˜ao\n",
    "n˜ao podemos usar o m´etodo ANOVA. Sendo assim, antes de poder usar\n",
    "esse teste, vocˆe deve verificar as condi¸c˜oes de aplicabilidade dele. Primeiro\n",
    "verifique, se as amostras s˜ao aproximadamente normalmente distribu´ıdas.\n",
    "\n",
    "Em seguida, usando o teste de Levene, verifique se as amostras possuem\n",
    "variˆancias iguais do ponto de vista estat´ıstico."
   ]
  },
  {
   "cell_type": "code",
   "execution_count": null,
   "metadata": {
    "vscode": {
     "languageId": "plaintext"
    }
   },
   "outputs": [],
   "source": []
  },
  {
   "cell_type": "markdown",
   "metadata": {},
   "source": []
  },
  {
   "cell_type": "markdown",
   "metadata": {},
   "source": [
    "(ii) Agora que vocˆe verificou as condi¸c˜oes aplicabilidade do ANOVA, aplique\n",
    "esse teste para verificar a hip´otese nula de que as trˆes popula¸c˜oes tˆem m´edias\n",
    "estatisticamente iguais. Declare as hip´oteses nula e alternativa. A seguir,\n",
    "descreva sua conclus˜ao. Use n´ıvel de significˆancia de 5%."
   ]
  },
  {
   "cell_type": "code",
   "execution_count": null,
   "metadata": {
    "vscode": {
     "languageId": "plaintext"
    }
   },
   "outputs": [],
   "source": []
  },
  {
   "cell_type": "markdown",
   "metadata": {},
   "source": []
  },
  {
   "cell_type": "markdown",
   "metadata": {},
   "source": [
    "### 4.2 Situa¸c˜ao-problema II\n",
    "Em http://www.flatworldknowledge.com/sites/all/files/data9.xls, vocˆe\n",
    "encontra dados que registram os custos dos materiais (livro did´atico, manual de\n",
    "solu¸c˜ao, taxas de laborat´orio e assim por diante) em cada um dos dez cursos diferentes em cada um dos trˆes assuntos diferentes, qu´ımica, ciˆencia da computa¸c˜ao\n",
    "e matem´atica. Verifique, ao n´ıvel de significˆancia de 1%, se os dados fornecem\n",
    "evidˆencias suficientes para concluir que os custos m´edios nas trˆes disciplinas n˜ao\n",
    "s˜ao todos iguais. Apresente os detalhes de aplica¸c˜ao todos os quatro passos do\n",
    "teste de hip´oteses."
   ]
  },
  {
   "cell_type": "code",
   "execution_count": null,
   "metadata": {
    "vscode": {
     "languageId": "plaintext"
    }
   },
   "outputs": [],
   "source": []
  },
  {
   "cell_type": "markdown",
   "metadata": {},
   "source": []
  },
  {
   "cell_type": "markdown",
   "metadata": {},
   "source": [
    "# 5 Testes Qui-quadrado\n",
    "### 5.1 Distribui¸c˜ao χ\n",
    "2\n",
    "Suponha que uma vari´avel aleat´oria Y siga a distribui¸c˜ao χ\n",
    "2\n",
    "com k graus de\n",
    "liberdade, isto ´e, Y ∼ χ\n",
    "2\n",
    "(k)\n",
    ". Por meio das fun¸c˜oes apropriadas de R\n",
    "1 ou de\n",
    "Python2\n",
    ", compute o que se pede a seguir. Considere que k = 13."
   ]
  },
  {
   "cell_type": "markdown",
   "metadata": {},
   "source": [
    "(i) Pr(Y > 2,56)"
   ]
  },
  {
   "cell_type": "code",
   "execution_count": null,
   "metadata": {
    "vscode": {
     "languageId": "plaintext"
    }
   },
   "outputs": [],
   "source": []
  },
  {
   "cell_type": "markdown",
   "metadata": {},
   "source": []
  },
  {
   "cell_type": "markdown",
   "metadata": {},
   "source": [
    "(ii) Pr(2,56 < Y < 4,87)\n"
   ]
  },
  {
   "cell_type": "code",
   "execution_count": null,
   "metadata": {
    "vscode": {
     "languageId": "plaintext"
    }
   },
   "outputs": [],
   "source": []
  },
  {
   "cell_type": "markdown",
   "metadata": {},
   "source": []
  },
  {
   "cell_type": "markdown",
   "metadata": {},
   "source": [
    "(iii) O valor de y tal que Pr(Y < y) = 0,95\n"
   ]
  },
  {
   "cell_type": "code",
   "execution_count": null,
   "metadata": {
    "vscode": {
     "languageId": "plaintext"
    }
   },
   "outputs": [],
   "source": []
  },
  {
   "cell_type": "markdown",
   "metadata": {},
   "source": []
  },
  {
   "cell_type": "markdown",
   "metadata": {},
   "source": [
    "### 5.2 Teste χ2(situa¸c˜ao-problema I)\n",
    "Considere novamente o conjunto de dados denominado mtcars. Para este conjunto de dados, descubra se as vari´aveis cyl e carb s˜ao ou n˜ao dependentes. Para\n",
    "isso, utilize o teste χ\n",
    "2\n",
    ". Apresente o desenvolvimento, isto ´e, os comandos em R\n",
    "ou Python que vocˆe utilizou para chegar `a conclus˜ao."
   ]
  },
  {
   "cell_type": "code",
   "execution_count": null,
   "metadata": {
    "vscode": {
     "languageId": "plaintext"
    }
   },
   "outputs": [],
   "source": []
  },
  {
   "cell_type": "markdown",
   "metadata": {},
   "source": []
  },
  {
   "cell_type": "markdown",
   "metadata": {},
   "source": [
    "### 5.3 Teste χ2(situa¸c˜ao-problema II)\n",
    "A fabricante das balinhas Zuzuba produz balinhas de diferentes cores. Esse fabricante alega que cada pacote produzido cont´em quantidades de balinhas de\n",
    "cada cor que n˜ao diferem significativamente das que s˜ao apresentadas na segunda\n",
    "coluna da tabela Tabela 1. Para testar essa alega¸c˜ao, um auditor comprou um\n",
    "pacote de Zuzubas em uma loja perto de sua casa e contou as quantidades de\n",
    "cada cor. Os dados levantados pelo auditor est˜ao na terceira coluna da Tabela 1.\n",
    "Se o fabricante estiver correto, ent˜ao n˜ao deve haver diferen¸ca significativa entre\n",
    "as quantidades de diversas cores de Zuzubas que ela alega depositar em cada\n",
    "pacote e as quantidades que o auditor encontrou."
   ]
  },
  {
   "cell_type": "markdown",
   "metadata": {},
   "source": [
    "(i) Utilizando o R\n",
    "3 ou Python4\n",
    ", apresente dois gr´aficos de setores (pie charts),\n",
    "um para as quantidades esperadas e outro para as quantidades observadas\n",
    "de cores."
   ]
  },
  {
   "cell_type": "code",
   "execution_count": null,
   "metadata": {
    "vscode": {
     "languageId": "plaintext"
    }
   },
   "outputs": [],
   "source": []
  },
  {
   "cell_type": "markdown",
   "metadata": {},
   "source": []
  },
  {
   "cell_type": "markdown",
   "metadata": {},
   "source": [
    "(ii) Tamb´em utilizando R ou Python, teste a hip´otese nula de que a alega¸c˜ao do\n",
    "fabricante ´e verdadeira, usando n´ıvel de significˆancia α = 0,05. Apresente\n",
    "os seguintes valores: graus de liberdade, valor da estat´ıstica e o valor-p.\n",
    "Apresente tamb´em a sua conclus˜ao, contra ou a favor da hip´otese nula,\n",
    "justificando sua resposta."
   ]
  },
  {
   "cell_type": "code",
   "execution_count": null,
   "metadata": {
    "vscode": {
     "languageId": "plaintext"
    }
   },
   "outputs": [],
   "source": []
  },
  {
   "cell_type": "markdown",
   "metadata": {},
   "source": []
  },
  {
   "cell_type": "markdown",
   "metadata": {},
   "source": [
    "### 5.4 Teste χ2(situa¸c˜ao-problema III)\n",
    "Considere um caso hipot´etico em que se deseja testar a efic´acia de um medicamento para um determinado problema m´edico. Suponha que temos 105 pacientes\n",
    "em estudo e 50 deles foram tratados com a droga. Os restantes 55 pacientes foram\n",
    "mantidos como amostras de controle. O estado de sa´ude de todos os pacientes foi\n",
    "verificado ap´os uma semana. Os dados e resultados para todos esse indiv´ıduos\n",
    "podem ser encontrados no arquivo treatment.csv5\n",
    ".\n",
    "A tabela de contingˆencia para o conjunto de dados fornecido pode ser produzida por meio dos comandos na Listagem 2 e na Listagem 3.\n",
    "Nesta situa¸c˜ao problema, temos duas vari´aveis discretas, uma que indica se\n",
    "o paciente foi tratado com o medicamento (treated ou not-treated), e outra que\n",
    "indica se o paciente melhorou ou n˜ao (improved ou not-improved) Utilizando R\n",
    "ou Python, verifique a alega¸c˜ao de que as duas vari´aveis s˜ao dependentes, usando\n",
    "n´ıvel de significˆancia α = 0,05."
   ]
  },
  {
   "cell_type": "code",
   "execution_count": null,
   "metadata": {
    "vscode": {
     "languageId": "plaintext"
    }
   },
   "outputs": [],
   "source": []
  },
  {
   "cell_type": "markdown",
   "metadata": {},
   "source": []
  },
  {
   "cell_type": "markdown",
   "metadata": {},
   "source": [
    "### 5.5 Teste χ2(situa¸c˜ao-problema IV)\n",
    "Em http://www.flatworldknowledge.com/sites/all/files/data4.xls, est´a\n",
    "dispon´ıvel um conjunto de dados que registra o resultado de 500 arremessos de\n",
    "um dado de seis lados. Verifique, ao n´ıvel de significˆancia de 10%, se h´a evidˆencia\n",
    "5Dados obtidos no seguinte endere¸co: https://raw.githubusercontent.com/selva86/\n",
    "datasets/master/treatment.csv\n",
    "10\n",
    "suficiente para concluir que o dado n˜ao ´e “justo” (ou “balanceado”), ou seja, que\n",
    "a distribui¸c˜ao de probabilidade difere da probabilidade 1/6 para cada das seis\n",
    "faces do dado. Forne¸ca a descri¸c˜ao detalhada dos quatro passos de aplica¸c˜ao do\n",
    "teste."
   ]
  },
  {
   "cell_type": "code",
   "execution_count": null,
   "metadata": {
    "vscode": {
     "languageId": "plaintext"
    }
   },
   "outputs": [],
   "source": []
  },
  {
   "cell_type": "markdown",
   "metadata": {},
   "source": []
  }
 ],
 "metadata": {
  "language_info": {
   "name": "python"
  },
  "orig_nbformat": 4
 },
 "nbformat": 4,
 "nbformat_minor": 2
}
